{
 "cells": [
  {
   "cell_type": "markdown",
   "metadata": {},
   "source": []
  },
  {
   "cell_type": "markdown",
   "metadata": {},
   "source": [
    "## ***Vector***"
   ]
  },
  {
   "cell_type": "markdown",
   "metadata": {},
   "source": [
    "### What is a Vector\n",
    ">A vector is a tuple of one or more values called `scalars`标量.\n",
    "\n",
    "Vectors are often represented using a lowercase character such as “v”;\n",
    "\n",
    "```python\n",
    "v = (v1, v2, v3)\n",
    "```\n",
    "Where v1, v2, v3 are scalar values, often real values."
   ]
  },
  {
   "cell_type": "markdown",
   "metadata": {},
   "source": [
    "### Defining a Vector\n",
    "\n",
    ">We can represent a vector in Python as a `NumPy array`.\n",
    "\n",
    "A NumPy array can be created from a list of numbers. For example, below we define a vector with the length of 3 and the integer values 1, 2, and 3."
   ]
  },
  {
   "cell_type": "code",
   "execution_count": 1,
   "metadata": {
    "ExecuteTime": {
     "end_time": "2019-12-17T07:21:58.233512Z",
     "start_time": "2019-12-17T07:21:58.223512Z"
    }
   },
   "outputs": [
    {
     "name": "stdout",
     "output_type": "stream",
     "text": [
      "[1 2 3]\n"
     ]
    }
   ],
   "source": [
    "from numpy import array\n",
    "v = array([1, 2, 3])\n",
    "print(v)"
   ]
  },
  {
   "cell_type": "markdown",
   "metadata": {},
   "source": [
    "### vector multiplication\n",
    "$ c = a * b $\n",
    "\n",
    ">As with addition and subtraction, this operation is performed `element-wise` to result in a new vector of the same length.\n",
    "\n",
    "$ a * b = (a_1 * b_1, a_2 * b_2, a_3 * b_3) $   "
   ]
  },
  {
   "cell_type": "code",
   "execution_count": 3,
   "metadata": {
    "ExecuteTime": {
     "end_time": "2019-12-17T07:47:44.605654Z",
     "start_time": "2019-12-17T07:47:44.594659Z"
    },
    "collapsed": true
   },
   "outputs": [
    {
     "name": "stdout",
     "output_type": "stream",
     "text": [
      "[1 2 3]\n",
      "[1 2 3]\n",
      "[1 4 9]\n"
     ]
    }
   ],
   "source": [
    "# multiply vectors\n",
    "from numpy import array\n",
    "a = array([1, 2, 3])\n",
    "print(a)\n",
    "b = array([1, 2, 3])\n",
    "print(b)\n",
    "c = a * b\n",
    "print(c)"
   ]
  },
  {
   "cell_type": "markdown",
   "metadata": {
    "ExecuteTime": {
     "end_time": "2019-12-17T07:47:49.433114Z",
     "start_time": "2019-12-17T07:47:49.424111Z"
    }
   },
   "source": [
    "### Vector dot product  `v1.dot(v2)`\n",
    ">We can calculate the sum of the multiplied elements of two vectors of the same length to give a scalar.\n",
    "\n",
    "The dot product is the key tool for calculating `vector projections`, `vector decompositions`, and `determining orthogonality`. The name dot product comes from the symbol used to denote it.\n",
    "\n",
    "$ c = (a_1b_1 + a_2b_2 + a_3b_3) $"
   ]
  },
  {
   "cell_type": "code",
   "execution_count": 6,
   "metadata": {
    "ExecuteTime": {
     "end_time": "2019-12-17T07:48:15.722568Z",
     "start_time": "2019-12-17T07:48:15.711563Z"
    },
    "collapsed": true
   },
   "outputs": [
    {
     "name": "stdout",
     "output_type": "stream",
     "text": [
      "[2 4 6]\n",
      "[0 0 0]\n",
      "[1. 1. 1.]\n",
      "14\n"
     ]
    }
   ],
   "source": [
    "import numpy as np\n",
    "print(\n",
    "    a + b,\n",
    "    a - b,\n",
    "    a / b,\n",
    "    a.dot(b),\n",
    "    sep='\\n'\n",
    ")"
   ]
  },
  {
   "cell_type": "markdown",
   "metadata": {},
   "source": [
    "## ***Matrices***"
   ]
  },
  {
   "cell_type": "markdown",
   "metadata": {},
   "source": [
    "### What is a Matrix?\n",
    "\n",
    ">A matrix is a ***two-dimensional array of scalars*** with one or more columns and one or more rows.\n",
    "\n",
    "The notation for a matrix is often an `uppercase letter`, such as A, and entries are referred to by their two-dimensional `subscript`下标 of row (i) and column (j), such as $a_{ij}$.    \n",
    "For example: $ A = ((a_{11}, a_{12}), (a_{21}, a_{22}), (a_{31}, a_{32})) $"
   ]
  },
  {
   "cell_type": "markdown",
   "metadata": {},
   "source": [
    "### Defining a Matrix\n",
    "\n",
    ">We can represent a matrix in Python using a two-dimensional NumPy array.\n",
    "\n",
    "A NumPy array can be constructed given ***a list of lists***."
   ]
  },
  {
   "cell_type": "code",
   "execution_count": 7,
   "metadata": {
    "ExecuteTime": {
     "end_time": "2019-12-17T08:09:59.676873Z",
     "start_time": "2019-12-17T08:09:59.668868Z"
    },
    "collapsed": true
   },
   "outputs": [
    {
     "name": "stdout",
     "output_type": "stream",
     "text": [
      "[[1 2 3]\n",
      " [4 5 6]]\n"
     ]
    }
   ],
   "source": [
    "# create matrix\n",
    "from numpy import array\n",
    "A = array([[1, 2, 3], [4, 5, 6]])\n",
    "print(A)"
   ]
  },
  {
   "cell_type": "markdown",
   "metadata": {},
   "source": [
    "### Matrix Addition\n",
    ">Two matrices with the same dimensions can be added together to create a new third matrix.\n",
    "\n",
    "`C = A + B`"
   ]
  },
  {
   "cell_type": "code",
   "execution_count": 8,
   "metadata": {
    "ExecuteTime": {
     "end_time": "2019-12-17T08:19:38.907709Z",
     "start_time": "2019-12-17T08:19:38.894704Z"
    },
    "collapsed": true
   },
   "outputs": [
    {
     "name": "stdout",
     "output_type": "stream",
     "text": [
      "[[1 2 3]\n",
      " [4 5 6]]\n",
      "[[1 2 3]\n",
      " [4 5 6]]\n",
      "[[ 2  4  6]\n",
      " [ 8 10 12]]\n"
     ]
    }
   ],
   "source": [
    "# add matrices\n",
    "from numpy import array\n",
    "A = array([[1, 2, 3], [4, 5, 6]])\n",
    "print(A)\n",
    "B = array([[1, 2, 3], [4, 5, 6]])\n",
    "print(B)\n",
    "C = A + B\n",
    "print(C)"
   ]
  },
  {
   "cell_type": "markdown",
   "metadata": {},
   "source": [
    "### Matrix Dot Product  `A.dot(B)`\n",
    "\n",
    "Matrix multiplication, also called the matrix dot product, is more complicated than the previous operations and involves a rule, as not all matrices can be multiplied together.\n",
    "\n",
    "$ C = A * B $\n",
    "\n",
    "The rule for matrix multiplication is as follows: \n",
    ">The number of columns in the first matrix (A) must equal the number of rows in the second matrix (B).\n",
    "\n",
    "`C(m,k) = A(m,n) * B(n,k)`\n"
   ]
  },
  {
   "cell_type": "code",
   "execution_count": 14,
   "metadata": {
    "ExecuteTime": {
     "end_time": "2019-12-17T09:33:43.879751Z",
     "start_time": "2019-12-17T09:33:43.861750Z"
    },
    "collapsed": true
   },
   "outputs": [
    {
     "name": "stdout",
     "output_type": "stream",
     "text": [
      "[[1 2]\n",
      " [3 4]\n",
      " [5 6]]\n",
      "[[1 2]\n",
      " [3 4]]\n",
      "[[ 7 10]\n",
      " [15 22]\n",
      " [23 34]]\n",
      "[[24]\n",
      " [54]\n",
      " [84]]\n"
     ]
    }
   ],
   "source": [
    "# matrix dot product\n",
    "from numpy import array\n",
    "A = array([[1, 2], [3, 4], [5, 6]])\n",
    "print(A)\n",
    "B = array([[1, 2], [3, 4]])\n",
    "print(B)\n",
    "C = A.dot(B)  # or use @ operator for dot product, C = A @ B\n",
    "print(C)\n",
    "v = array([[6], [9]])\n",
    "print(A.dot(v))"
   ]
  },
  {
   "cell_type": "markdown",
   "metadata": {
    "ExecuteTime": {
     "end_time": "2019-12-17T08:47:35.485363Z",
     "start_time": "2019-12-17T08:47:35.456364Z"
    }
   },
   "source": [
    "### Hadamard product 阿达马积\n",
    ">For two matrices A and B of the same dimension m × n 维度相同, the Hadamard product A ∘ B (or A ⊙ B) is a matrix of the same dimension as the operands, with elements given by    \n",
    "$(A\\circ B)_{ij}=(A\\odot B)_{ij}=(A)_{ij}(B)_{ij}$\n",
    "\n",
    "For matrices of different dimensions (m × n and p × q, where m ≠ p or n ≠ q) the Hadamard product is undefined.\n",
    "\n",
    "The Hadamard product is also often denoted using the ⊙ or ∘."
   ]
  },
  {
   "cell_type": "code",
   "execution_count": null,
   "metadata": {},
   "outputs": [],
   "source": []
  },
  {
   "cell_type": "markdown",
   "metadata": {},
   "source": [
    "## ***Matrix Types and Operations*** 🔥"
   ]
  },
  {
   "cell_type": "markdown",
   "metadata": {},
   "source": [
    "### ?? Types\n",
    "\n",
    "$$ Identity Matrix = \\begin{bmatrix}1&0&0\\\\0&1&0\\\\0&0&1\\end{bmatrix} $$\n",
    "$$ Orthogonal Matrix  $$"
   ]
  },
  {
   "cell_type": "markdown",
   "metadata": {},
   "source": [
    "### Operations"
   ]
  },
  {
   "cell_type": "markdown",
   "metadata": {},
   "source": [
    "#### Transpose  `A.T`\n",
    ">A defined matrix can be transposed, which creates a new matrix with the number of columns and rows flipped.\n",
    "\n",
    "$ C = A^{T} $\n",
    "\n",
    "We can transpose a matrix in NumPy by calling the `T` attribute."
   ]
  },
  {
   "cell_type": "code",
   "execution_count": 15,
   "metadata": {
    "ExecuteTime": {
     "end_time": "2019-12-17T09:39:28.551163Z",
     "start_time": "2019-12-17T09:39:28.541161Z"
    },
    "collapsed": true
   },
   "outputs": [
    {
     "name": "stdout",
     "output_type": "stream",
     "text": [
      "[[1 2]\n",
      " [3 4]\n",
      " [5 6]]\n",
      "[[1 3 5]\n",
      " [2 4 6]]\n"
     ]
    }
   ],
   "source": [
    "# transpose matrix\n",
    "from numpy import array\n",
    "A = array([[1, 2], [3, 4], [5, 6]])\n",
    "print(A)\n",
    "C = A.T\n",
    "print(C)"
   ]
  },
  {
   "cell_type": "markdown",
   "metadata": {},
   "source": [
    "#### ***?? Inversion  `np.linalg.inv(A)`***\n",
    ">Matrix inversion is a process that finds another matrix that when multiplied with the matrix, results in an `identity matrix`. Given a matrix A, find matrix B, such that $ AB = I^n $ or $ BA = I^n $.\n",
    "\n",
    "$$ B = A^{-1} $$\n",
    "\n",
    "The matrix inversion operation is not computed directly, but rather the inverted matrix is\n",
    "discovered through a numerical operation, where a suite of efficient methods may be used, often involving forms of **`matrix decomposition`矩阵分解**.    \n",
    "A matrix can be inverted in NumPy using the `inv()` function."
   ]
  },
  {
   "cell_type": "code",
   "execution_count": 1,
   "metadata": {
    "ExecuteTime": {
     "end_time": "2019-12-18T02:50:38.958773Z",
     "start_time": "2019-12-18T02:50:38.897778Z"
    },
    "collapsed": true
   },
   "outputs": [
    {
     "name": "stdout",
     "output_type": "stream",
     "text": [
      "[[1. 2.]\n",
      " [3. 4.]]\n",
      "[[-2.   1. ]\n",
      " [ 1.5 -0.5]]\n",
      "[[1.00000000e+00 1.11022302e-16]\n",
      " [0.00000000e+00 1.00000000e+00]]\n"
     ]
    }
   ],
   "source": [
    "# invert matrix\n",
    "from numpy import array\n",
    "from numpy.linalg import inv\n",
    "# define matrix\n",
    "A = array([[1.0, 2.0], [3.0, 4.0]])\n",
    "print(A)\n",
    "# invert matrix\n",
    "B = inv(A)\n",
    "print(B)\n",
    "I = A.dot(B)\n",
    "print(I)"
   ]
  },
  {
   "cell_type": "markdown",
   "metadata": {},
   "source": [
    "#### Trace  `np.tracne(A)`\n",
    ">A trace of a `square matrix` is the sum of the values on the main diagonal of the matrix (top-left to bottom-right)."
   ]
  },
  {
   "cell_type": "code",
   "execution_count": 2,
   "metadata": {
    "ExecuteTime": {
     "end_time": "2019-12-18T02:54:28.914301Z",
     "start_time": "2019-12-18T02:54:28.903302Z"
    },
    "collapsed": true
   },
   "outputs": [
    {
     "name": "stdout",
     "output_type": "stream",
     "text": [
      "[[1 2 3]\n",
      " [4 5 6]\n",
      " [7 8 9]]\n",
      "15\n"
     ]
    }
   ],
   "source": [
    "# matrix trace\n",
    "from numpy import array\n",
    "from numpy import trace\n",
    "# define matrix\n",
    "A = array([\n",
    "    [1, 2, 3],\n",
    "    [4, 5, 6],\n",
    "    [7, 8, 9]])\n",
    "print(A)\n",
    "# calculate trace\n",
    "B = trace(A)\n",
    "print(B)"
   ]
  },
  {
   "cell_type": "markdown",
   "metadata": {},
   "source": [
    "#### ***?? Determinant 矩阵行列式***  `np.linalg.det(A)`\n",
    "\n",
    "The determinant of a `square matrix` is a scalar representation of the volume of the matrix.\n",
    "    \n",
    "    　　The determinant describes the relative geometry of the vectors that make up the　rows of the matrix. More specifically, the determinant of a matrix A tells you the　volume of a box with sides given by rows of A.\n",
    "                                  Page 119, No Bullshit Guide To Linear Algebra, 2017.\n",
    "                                  \n",
    "It is denoted by the $det(A)$ notation or $\\left|A\\right|$ , where A is the matrix on which we are calculating the determinant.\n",
    ">　　The determinant of a square matrix is calculated from the elements of the matrix. More\n",
    "technically, ***the determinant is the product of all the `eigenvalues`特征值 of the matrix.***    \n",
    "　　Eigenvalues are introduced in the lessons on **`matrix factorization`**矩阵因子分解.    \n",
    "　　The intuition for the determinant is that it describes the way a matrix will scale another matrix when they are multiplied together.    \n",
    "\n",
    "In NumPy, the determinant of a matrix can be calculated using the `det()` function."
   ]
  },
  {
   "cell_type": "code",
   "execution_count": 3,
   "metadata": {
    "ExecuteTime": {
     "end_time": "2019-12-18T03:13:40.134100Z",
     "start_time": "2019-12-18T03:13:40.121094Z"
    },
    "collapsed": true
   },
   "outputs": [
    {
     "name": "stdout",
     "output_type": "stream",
     "text": [
      "[[1 2 3]\n",
      " [4 5 6]\n",
      " [7 8 9]]\n",
      "-9.51619735392994e-16\n"
     ]
    }
   ],
   "source": [
    "# matrix determinant\n",
    "from numpy import array\n",
    "from numpy.linalg import det\n",
    "# define matrix\n",
    "A = array([\n",
    "    [1, 2, 3],\n",
    "    [4, 5, 6],\n",
    "    [7, 8, 9]])\n",
    "print(A)\n",
    "# calculate determinant\n",
    "B = det(A)\n",
    "print(B)"
   ]
  },
  {
   "cell_type": "code",
   "execution_count": null,
   "metadata": {},
   "outputs": [],
   "source": []
  },
  {
   "cell_type": "code",
   "execution_count": null,
   "metadata": {},
   "outputs": [],
   "source": []
  },
  {
   "cell_type": "code",
   "execution_count": null,
   "metadata": {},
   "outputs": [],
   "source": []
  },
  {
   "cell_type": "markdown",
   "metadata": {},
   "source": [
    "#### Rank  `np.linalg.matrix_rank(A)`\n",
    "\n",
    ">The rank of a matrix is the estimate of the number of `linearly independent` rows or columns in\n",
    "a matrix.    \n",
    "\n",
    "The rank of a matrix M is often denoted as the function rank().\n",
    "\n",
    "$$rank(A)$$\n",
    "\n",
    "An intuition for rank is to consider it the number of `dimensions spanned`跨纬度 by all of the vectors within a matrix.\n",
    "\n",
    "In the theory of vector spaces 向量空间, a set of vectors is said to be linearly dependent if at least one of the vectors in the set can be defined as a linear combination of the others; if no vector in the set can be written in this way, then the vectors are said to be linearly independent.\n",
    "\n",
    "    　　In linear algebra, the rank of a matrix A is the dimension of the vector space generated (or spanned) by its columns. This corresponds to the maximal number of linearly independent columns of A. This, in turn, is identical to the dimension of the vector space spanned by its rows. \n",
    "    　　Rank is thus a measure of the \"nondegenerateness\" of the system of linear equations and linear transformation encoded by A.\n",
    "                                                         --- wikipedia\n",
    "\n",
    "For example, a rank of 0 suggest all vectors span a point, a rank of 1 suggests all vectors span a line, a rank of 2 suggests all vectors span a two-dimensional plane.\n",
    "\n",
    ">The rank is estimated numerically, often using a `matrix decomposition` method. A common approach is to use the `Singular-Value Decomposition` or `SVD` for short.    \n",
    "\n",
    "NumPy provides the matrix `rank()` function for calculating the rank of an array.\n",
    "\n",
    "矩阵行是观测，列是变量，线性独立可以看作观测间的独立和变量间的独立。"
   ]
  },
  {
   "cell_type": "code",
   "execution_count": 11,
   "metadata": {
    "ExecuteTime": {
     "end_time": "2019-12-18T03:51:06.331199Z",
     "start_time": "2019-12-18T03:51:06.312209Z"
    },
    "collapsed": true
   },
   "outputs": [
    {
     "name": "stdout",
     "output_type": "stream",
     "text": [
      "[1 2 3]\n",
      "1\n",
      "[0 0 0 0 0]\n",
      "0\n",
      "matrix rank:  2\n"
     ]
    }
   ],
   "source": [
    "# vector rank\n",
    "from numpy import array\n",
    "from numpy.linalg import matrix_rank\n",
    "# rank\n",
    "v1 = array([1,2,3])\n",
    "print(v1)\n",
    "vr1 = matrix_rank(v1)\n",
    "print(vr1)\n",
    "# zero rank\n",
    "v2 = array([0,0,0,0,0])\n",
    "print(v2)\n",
    "vr2 = matrix_rank(v2)\n",
    "print(vr2)\n",
    "ma = array([[1,2,3,4], [3,7,4,7], [1,2,3,4]])\n",
    "print('matrix rank: ', matrix_rank(ma))"
   ]
  },
  {
   "cell_type": "code",
   "execution_count": null,
   "metadata": {},
   "outputs": [],
   "source": []
  },
  {
   "cell_type": "code",
   "execution_count": null,
   "metadata": {},
   "outputs": [],
   "source": []
  },
  {
   "cell_type": "code",
   "execution_count": null,
   "metadata": {},
   "outputs": [],
   "source": []
  },
  {
   "cell_type": "code",
   "execution_count": null,
   "metadata": {},
   "outputs": [],
   "source": []
  },
  {
   "cell_type": "code",
   "execution_count": null,
   "metadata": {},
   "outputs": [],
   "source": []
  },
  {
   "cell_type": "code",
   "execution_count": null,
   "metadata": {},
   "outputs": [],
   "source": []
  },
  {
   "cell_type": "code",
   "execution_count": null,
   "metadata": {},
   "outputs": [],
   "source": []
  },
  {
   "cell_type": "code",
   "execution_count": null,
   "metadata": {},
   "outputs": [],
   "source": []
  },
  {
   "cell_type": "markdown",
   "metadata": {},
   "source": [
    "## ***Matrix Factorization 矩阵因子分解***  🎁"
   ]
  },
  {
   "cell_type": "code",
   "execution_count": null,
   "metadata": {},
   "outputs": [],
   "source": []
  },
  {
   "cell_type": "code",
   "execution_count": null,
   "metadata": {},
   "outputs": [],
   "source": []
  },
  {
   "cell_type": "code",
   "execution_count": null,
   "metadata": {},
   "outputs": [],
   "source": []
  },
  {
   "cell_type": "code",
   "execution_count": null,
   "metadata": {},
   "outputs": [],
   "source": []
  },
  {
   "cell_type": "code",
   "execution_count": null,
   "metadata": {},
   "outputs": [],
   "source": []
  },
  {
   "cell_type": "code",
   "execution_count": null,
   "metadata": {},
   "outputs": [],
   "source": []
  },
  {
   "cell_type": "code",
   "execution_count": null,
   "metadata": {},
   "outputs": [],
   "source": []
  },
  {
   "cell_type": "code",
   "execution_count": null,
   "metadata": {},
   "outputs": [],
   "source": []
  },
  {
   "cell_type": "markdown",
   "metadata": {},
   "source": [
    "## ***Singular-Value Decomposition***  🎉🎊"
   ]
  },
  {
   "cell_type": "code",
   "execution_count": null,
   "metadata": {},
   "outputs": [],
   "source": []
  },
  {
   "cell_type": "code",
   "execution_count": null,
   "metadata": {},
   "outputs": [],
   "source": []
  },
  {
   "cell_type": "code",
   "execution_count": null,
   "metadata": {},
   "outputs": [],
   "source": []
  },
  {
   "cell_type": "code",
   "execution_count": null,
   "metadata": {},
   "outputs": [],
   "source": []
  },
  {
   "cell_type": "code",
   "execution_count": null,
   "metadata": {},
   "outputs": [],
   "source": []
  },
  {
   "cell_type": "code",
   "execution_count": null,
   "metadata": {},
   "outputs": [],
   "source": []
  },
  {
   "cell_type": "markdown",
   "metadata": {},
   "source": [
    "[***Source - machinelearingmastery***](https://machinelearningmastery.com/linear-algebra-machine-learning-7-day-mini-course/)"
   ]
  }
 ],
 "metadata": {
  "kernelspec": {
   "display_name": "Python 3",
   "language": "python",
   "name": "python3"
  },
  "language_info": {
   "codemirror_mode": {
    "name": "ipython",
    "version": 3
   },
   "file_extension": ".py",
   "mimetype": "text/x-python",
   "name": "python",
   "nbconvert_exporter": "python",
   "pygments_lexer": "ipython3",
   "version": "3.7.4"
  },
  "notify_time": "5",
  "toc": {
   "base_numbering": 1,
   "nav_menu": {},
   "number_sections": true,
   "sideBar": true,
   "skip_h1_title": false,
   "title_cell": "Table of Contents",
   "title_sidebar": "Contents",
   "toc_cell": false,
   "toc_position": {
    "height": "calc(100% - 180px)",
    "left": "10px",
    "top": "150px",
    "width": "165px"
   },
   "toc_section_display": true,
   "toc_window_display": true
  },
  "varInspector": {
   "cols": {
    "lenName": 16,
    "lenType": 16,
    "lenVar": 40
   },
   "kernels_config": {
    "python": {
     "delete_cmd_postfix": "",
     "delete_cmd_prefix": "del ",
     "library": "var_list.py",
     "varRefreshCmd": "print(var_dic_list())"
    },
    "r": {
     "delete_cmd_postfix": ") ",
     "delete_cmd_prefix": "rm(",
     "library": "var_list.r",
     "varRefreshCmd": "cat(var_dic_list()) "
    }
   },
   "types_to_exclude": [
    "module",
    "function",
    "builtin_function_or_method",
    "instance",
    "_Feature"
   ],
   "window_display": false
  }
 },
 "nbformat": 4,
 "nbformat_minor": 2
}
